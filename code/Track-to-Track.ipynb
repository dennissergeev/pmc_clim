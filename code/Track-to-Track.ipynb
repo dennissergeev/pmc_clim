{
 "cells": [
  {
   "cell_type": "markdown",
   "metadata": {},
   "source": [
    "# Track-to-track comparison of ERA5 and ERA-Interim"
   ]
  },
  {
   "cell_type": "code",
   "execution_count": 1,
   "metadata": {},
   "outputs": [
    {
     "data": {
      "text/plain": [
       "'0.0.11'"
      ]
     },
     "execution_count": 1,
     "metadata": {},
     "output_type": "execute_result"
    }
   ],
   "source": [
    "from IPython.display import clear_output\n",
    "import numpy as np\n",
    "import pandas as pd\n",
    "from tqdm import tqdm_notebook as tqdm\n",
    "\n",
    "from common_defs import winters, nyr, winter_dates, datasets, cat_kw, aliases, conf_key_typeset, runs_grid_formatter\n",
    "import mypaths\n",
    "\n",
    "from octant.core import TrackRun, OctantTrack\n",
    "from octant.misc import SUBSETS\n",
    "import octant\n",
    "octant.__version__"
   ]
  },
  {
   "cell_type": "code",
   "execution_count": 2,
   "metadata": {},
   "outputs": [],
   "source": [
    "subsets = SUBSETS[1:]  # only PMC and IC"
   ]
  },
  {
   "cell_type": "markdown",
   "metadata": {},
   "source": [
    "## Compare only three runs"
   ]
  },
  {
   "cell_type": "code",
   "execution_count": 3,
   "metadata": {},
   "outputs": [],
   "source": [
    "dset_names = (\n",
    "    ('era5_run000', 'ERA5, CTRL'),\n",
    "    ('interim_run106', 'ERA-Interim, CTRL'),\n",
    "    ('interim_run100', 'ERA-Interim, LVT')\n",
    ")"
   ]
  },
  {
   "cell_type": "code",
   "execution_count": 4,
   "metadata": {},
   "outputs": [
    {
     "data": {
      "application/vnd.jupyter.widget-view+json": {
       "model_id": "7f0e428343f04849aa45809fadfdb3f6",
       "version_major": 2,
       "version_minor": 0
      },
      "text/plain": [
       "HBox(children=(IntProgress(value=0, max=3), HTML(value='')))"
      ]
     },
     "metadata": {},
     "output_type": "display_data"
    },
    {
     "name": "stdout",
     "output_type": "stream",
     "text": [
      "\n"
     ]
    }
   ],
   "source": [
    "track_runs = dict()\n",
    "for (dset_name, _) in tqdm(dset_names):\n",
    "    TR = TrackRun()\n",
    "    TR.data = OctantTrack.from_mux_df(pd.read_parquet(mypaths.procdir / f'{dset_name}_2008_2017_top10.parquet', engine='pyarrow'))\n",
    "    TR.is_categorised = True\n",
    "    track_runs[dset_name] = TR\n",
    "clear_output()"
   ]
  },
  {
   "cell_type": "code",
   "execution_count": 7,
   "metadata": {},
   "outputs": [],
   "source": [
    "match_kw = dict(method='bs2000', beta=50., return_dist_matrix=False)"
   ]
  },
  {
   "cell_type": "code",
   "execution_count": 5,
   "metadata": {},
   "outputs": [],
   "source": [
    "ref_dset = track_runs['era5_run000']"
   ]
  },
  {
   "cell_type": "code",
   "execution_count": 20,
   "metadata": {},
   "outputs": [
    {
     "data": {
      "application/vnd.jupyter.widget-view+json": {
       "model_id": "65211f7125c746d1bb44ef060ee43e4a",
       "version_major": 2,
       "version_minor": 0
      },
      "text/plain": [
       "HBox(children=(IntProgress(value=0, max=2), HTML(value='')))"
      ]
     },
     "metadata": {},
     "output_type": "display_data"
    },
    {
     "data": {
      "application/vnd.jupyter.widget-view+json": {
       "model_id": "521b13acc884462aa61f2b27ede71c66",
       "version_major": 2,
       "version_minor": 0
      },
      "text/plain": [
       "HBox(children=(IntProgress(value=0, max=2), HTML(value='')))"
      ]
     },
     "metadata": {},
     "output_type": "display_data"
    },
    {
     "data": {
      "application/vnd.jupyter.widget-view+json": {
       "model_id": "e949c09914b8400f963c9a440f6fac99",
       "version_major": 2,
       "version_minor": 0
      },
      "text/plain": [
       "HBox(children=(IntProgress(value=0, max=2), HTML(value='')))"
      ]
     },
     "metadata": {},
     "output_type": "display_data"
    },
    {
     "name": "stdout",
     "output_type": "stream",
     "text": [
      "\n"
     ]
    }
   ],
   "source": [
    "probability_of_coincidence = pd.DataFrame(index=[i[0] for i in dset_names if i[0] != 'era5_run000'], columns=subsets)\n",
    "ratio_of_missing_tracks = probability_of_coincidence.copy()\n",
    "\n",
    "for dset_name in tqdm(probability_of_coincidence.index):\n",
    "    for subset in tqdm(probability_of_coincidence.columns):\n",
    "        match_pairs = ref_dset.match_tracks(track_runs[dset_name],\n",
    "                                            subset=subset,\n",
    "                                            **match_kw)\n",
    "\n",
    "        probability_of_coincidence.loc[dset_name, subset] = len(match_pairs)\n",
    "        ratio_of_missing_tracks.loc[dset_name, subset] = (ref_dset.size(subset) - len(match_pairs)) / track_runs[dset_name].size(subset)\n",
    "clear_output()"
   ]
  },
  {
   "cell_type": "code",
   "execution_count": 35,
   "metadata": {},
   "outputs": [
    {
     "name": "stdout",
     "output_type": "stream",
     "text": [
      "\\begin{tabular}{lrr}\n",
      "\\toprule\n",
      "{} &  moderate &  strong \\\\\n",
      "\\midrule\n",
      "interim\\_run106 &       271 &      30 \\\\\n",
      "interim\\_run100 &      1112 &     126 \\\\\n",
      "\\bottomrule\n",
      "\\end{tabular}\n",
      "\n"
     ]
    }
   ],
   "source": [
    "print(probability_of_coincidence.to_latex())"
   ]
  },
  {
   "cell_type": "code",
   "execution_count": 22,
   "metadata": {},
   "outputs": [
    {
     "data": {
      "text/html": [
       "<div>\n",
       "<style scoped>\n",
       "    .dataframe tbody tr th:only-of-type {\n",
       "        vertical-align: middle;\n",
       "    }\n",
       "\n",
       "    .dataframe tbody tr th {\n",
       "        vertical-align: top;\n",
       "    }\n",
       "\n",
       "    .dataframe thead th {\n",
       "        text-align: right;\n",
       "    }\n",
       "</style>\n",
       "<table border=\"1\" class=\"dataframe\">\n",
       "  <thead>\n",
       "    <tr style=\"text-align: right;\">\n",
       "      <th></th>\n",
       "      <th>moderate</th>\n",
       "      <th>strong</th>\n",
       "    </tr>\n",
       "  </thead>\n",
       "  <tbody>\n",
       "    <tr>\n",
       "      <th>interim_run106</th>\n",
       "      <td>0.0153257</td>\n",
       "      <td>0.00383142</td>\n",
       "    </tr>\n",
       "    <tr>\n",
       "      <th>interim_run100</th>\n",
       "      <td>0.73908</td>\n",
       "      <td>0.681992</td>\n",
       "    </tr>\n",
       "  </tbody>\n",
       "</table>\n",
       "</div>"
      ],
      "text/plain": [
       "                 moderate      strong\n",
       "interim_run106  0.0153257  0.00383142\n",
       "interim_run100    0.73908    0.681992"
      ]
     },
     "execution_count": 22,
     "metadata": {},
     "output_type": "execute_result"
    }
   ],
   "source": [
    "ratio_of_missing_tracks"
   ]
  },
  {
   "cell_type": "code",
   "execution_count": 38,
   "metadata": {},
   "outputs": [
    {
     "data": {
      "application/vnd.jupyter.widget-view+json": {
       "model_id": "c665884f550a42448221d0214d2c07fa",
       "version_major": 2,
       "version_minor": 0
      },
      "text/plain": [
       "HBox(children=(IntProgress(value=0, max=2), HTML(value='')))"
      ]
     },
     "metadata": {},
     "output_type": "display_data"
    },
    {
     "data": {
      "application/vnd.jupyter.widget-view+json": {
       "model_id": "a1952ad72dbf4bdc842b84e941a4aca6",
       "version_major": 2,
       "version_minor": 0
      },
      "text/plain": [
       "HBox(children=(IntProgress(value=0, max=2), HTML(value='')))"
      ]
     },
     "metadata": {},
     "output_type": "display_data"
    },
    {
     "data": {
      "application/vnd.jupyter.widget-view+json": {
       "model_id": "6501a1beab504a50bfbb98100fed3936",
       "version_major": 2,
       "version_minor": 0
      },
      "text/plain": [
       "HBox(children=(IntProgress(value=0, max=2), HTML(value='')))"
      ]
     },
     "metadata": {},
     "output_type": "display_data"
    },
    {
     "name": "stdout",
     "output_type": "stream",
     "text": [
      "\n"
     ]
    }
   ],
   "source": [
    "for dset_name in tqdm(probability_of_coincidence.index):\n",
    "    for subset in tqdm(probability_of_coincidence.columns):\n",
    "        ratio_of_missing_tracks.loc[dset_name, subset] = (ref_dset.size(subset) - probability_of_coincidence.loc[dset_name, subset]) / track_runs[dset_name].size(subset)"
   ]
  },
  {
   "cell_type": "code",
   "execution_count": 41,
   "metadata": {},
   "outputs": [
    {
     "name": "stdout",
     "output_type": "stream",
     "text": [
      "\\begin{tabular}{lll}\n",
      "\\toprule\n",
      "{} &  moderate &    strong \\\\\n",
      "\\midrule\n",
      "interim\\_run106 &    7.5209 &   7.45161 \\\\\n",
      "interim\\_run100 &  0.492601 &  0.444079 \\\\\n",
      "\\bottomrule\n",
      "\\end{tabular}\n",
      "\n"
     ]
    }
   ],
   "source": [
    "print(ratio_of_missing_tracks.to_latex())"
   ]
  },
  {
   "cell_type": "code",
   "execution_count": 33,
   "metadata": {},
   "outputs": [
    {
     "data": {
      "text/plain": [
       "7.451612903225806"
      ]
     },
     "execution_count": 33,
     "metadata": {},
     "output_type": "execute_result"
    }
   ],
   "source": [
    "(261 - 30) / 31"
   ]
  },
  {
   "cell_type": "code",
   "execution_count": 40,
   "metadata": {},
   "outputs": [
    {
     "data": {
      "application/vnd.jupyter.widget-view+json": {
       "model_id": "b2d60d4c795b4dc28e6f7c4594e38aa0",
       "version_major": 2,
       "version_minor": 0
      },
      "text/plain": [
       "HBox(children=(IntProgress(value=0, max=2), HTML(value='')))"
      ]
     },
     "metadata": {},
     "output_type": "display_data"
    },
    {
     "name": "stdout",
     "output_type": "stream",
     "text": [
      "2610\n",
      "261\n",
      "\n"
     ]
    }
   ],
   "source": [
    "for subset in tqdm(probability_of_coincidence.columns):\n",
    "    print(ref_dset.size(subset))"
   ]
  },
  {
   "cell_type": "markdown",
   "metadata": {},
   "source": [
    "### All PMCTRACK runs, split into two groups"
   ]
  },
  {
   "cell_type": "code",
   "execution_count": 5,
   "metadata": {},
   "outputs": [],
   "source": [
    "# RUNS = dict()\n",
    "# RUNS['vort_thresh'] = dict()\n",
    "# RUNS['diff_params'] = dict()\n",
    "# for dataset in datasets:\n",
    "#     _runs = []\n",
    "#     for run_id_start in [0, 100]:\n",
    "#         with (mypaths.trackresdir / f'{dataset}_{run_id_start:03d}_runs_grid.json').open('r') as f:\n",
    "#             for run_id, run_dict in enumerate(json.load(f), run_id_start):\n",
    "#                 _runs.append( (run_id, run_dict) )\n",
    "\n",
    "#     RUNS['vort_thresh'][dataset] = []\n",
    "#     RUNS['diff_params'][dataset] = []\n",
    "#     for run_id, run_dict in _runs:\n",
    "#         if  len(run_dict) == 0 and run_id < 100:\n",
    "#             RUNS['diff_params'][dataset].append( (run_id, run_dict) )\n",
    "#         if 'zeta_max0' in run_dict or len(run_dict) == 0:\n",
    "#             if  run_id >= 100:\n",
    "#                 if run_dict != {'zeta_max0': 0.0001, 'zeta_min0': 9e-05}:\n",
    "#                     RUNS['vort_thresh'][dataset].append( (run_id, run_dict) )\n",
    "#         else:\n",
    "#             RUNS['diff_params'][dataset].append( (run_id, run_dict) )"
   ]
  },
  {
   "cell_type": "code",
   "execution_count": 18,
   "metadata": {},
   "outputs": [
    {
     "name": "stdout",
     "output_type": "stream",
     "text": [
      "100 105\n",
      "101 106\n",
      "102 107\n",
      "103 108\n",
      "104 109\n"
     ]
    }
   ],
   "source": [
    "# for run_id, run_dict in RUNS['vort_thresh']['era5']:\n",
    "#     for run_id_2, run_dict_2 in RUNS['vort_thresh']['interim']:\n",
    "#         if run_dict == run_dict_2:\n",
    "#             print(run_id, run_id_2)"
   ]
  },
  {
   "cell_type": "code",
   "execution_count": 30,
   "metadata": {},
   "outputs": [
    {
     "data": {
      "application/vnd.jupyter.widget-view+json": {
       "model_id": "413c220347c94e3e9d22dbed436890b1",
       "version_major": 2,
       "version_minor": 0
      },
      "text/plain": [
       "HBox(children=(IntProgress(value=0, description='winters', max=3), HTML(value='')))"
      ]
     },
     "metadata": {},
     "output_type": "display_data"
    }
   ],
   "source": [
    "# stars_winters = winters[:3]\n",
    "\n",
    "# TR = TrackRun()\n",
    "# for winter in tqdm(stars_winters, desc='winter', leave=False):\n",
    "#     track_res_dir = mypaths.trackresdir / dataset / f'run{run_id:03d}' / winter\n",
    "#     _TR = TrackRun(track_res_dir)\n",
    "#     _TR.categorise(lsm=lsm, **cat_kw)\n",
    "#     TR += _TR"
   ]
  }
 ],
 "metadata": {
  "kernelspec": {
   "display_name": "Python [conda env:phd]",
   "language": "python",
   "name": "conda-env-phd-py"
  },
  "language_info": {
   "codemirror_mode": {
    "name": "ipython",
    "version": 3
   },
   "file_extension": ".py",
   "mimetype": "text/x-python",
   "name": "python",
   "nbconvert_exporter": "python",
   "pygments_lexer": "ipython3",
   "version": "3.6.5"
  },
  "varInspector": {
   "cols": {
    "lenName": 16,
    "lenType": 16,
    "lenVar": 40
   },
   "kernels_config": {
    "python": {
     "delete_cmd_postfix": "",
     "delete_cmd_prefix": "del ",
     "library": "var_list.py",
     "varRefreshCmd": "print(var_dic_list())"
    },
    "r": {
     "delete_cmd_postfix": ") ",
     "delete_cmd_prefix": "rm(",
     "library": "var_list.r",
     "varRefreshCmd": "cat(var_dic_list()) "
    }
   },
   "types_to_exclude": [
    "module",
    "function",
    "builtin_function_or_method",
    "instance",
    "_Feature"
   ],
   "window_display": false
  }
 },
 "nbformat": 4,
 "nbformat_minor": 2
}
