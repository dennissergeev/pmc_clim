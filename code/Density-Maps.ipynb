{
 "cells": [
  {
   "cell_type": "code",
   "execution_count": 17,
   "metadata": {},
   "outputs": [
    {
     "data": {
      "text/plain": [
       "'0.0.11'"
      ]
     },
     "execution_count": 17,
     "metadata": {},
     "output_type": "execute_result"
    }
   ],
   "source": [
    "from cf_units import Unit\n",
    "from IPython.core.display import clear_output\n",
    "import iris\n",
    "import matplotlib.pyplot as plt\n",
    "from matplotlib.offsetbox import AnchoredText\n",
    "import matplotlib.patheffects as PathEffects\n",
    "from mpl_toolkits.axes_grid1.inset_locator import inset_axes\n",
    "import numpy as np\n",
    "import pandas as pd\n",
    "from pathlib import Path\n",
    "import xarray as xr\n",
    "from tqdm import tqdm_notebook as tqdm\n",
    "import string\n",
    "\n",
    "import arke\n",
    "from arke.cart import lcc_map, lcc_map_grid\n",
    "\n",
    "from common_defs import winters, nyr, winter_dates, toponyms, aliases, dset_names\n",
    "from plot_utils import LCC_KW, trans, clev101, abs_plt_kw, iletters\n",
    "import mypaths\n",
    "\n",
    "from octant.core import TrackRun, OctantTrack, HOUR\n",
    "from octant.misc import calc_all_dens, SUBSETS, DENSITY_TYPES\n",
    "import octant\n",
    "octant.__version__"
   ]
  },
  {
   "cell_type": "code",
   "execution_count": 2,
   "metadata": {},
   "outputs": [],
   "source": [
    "import warnings\n",
    "warnings.filterwarnings('ignore', category=RuntimeWarning, module='dask')\n",
    "warnings.filterwarnings('ignore', category=UserWarning, module='iris')\n",
    "warnings.filterwarnings('ignore', category=UserWarning, module='matplotlib')"
   ]
  },
  {
   "cell_type": "code",
   "execution_count": 3,
   "metadata": {},
   "outputs": [],
   "source": [
    "plt.style.use('paperfig.mplstyle')"
   ]
  },
  {
   "cell_type": "code",
   "execution_count": 4,
   "metadata": {},
   "outputs": [],
   "source": [
    "lsm = xr.open_dataarray(mypaths.era5_dir / 'lsm.nc').squeeze()\n",
    "lsm.attrs['units'] = 1\n",
    "lon2d, lat2d = np.meshgrid(lsm.longitude, lsm.latitude)"
   ]
  },
  {
   "cell_type": "markdown",
   "metadata": {},
   "source": [
    "#### Grids and arrays for density calculation"
   ]
  },
  {
   "cell_type": "code",
   "execution_count": 5,
   "metadata": {},
   "outputs": [],
   "source": [
    "lon_dens1d = np.arange(-20., 50.1, 1) # 0.3)\n",
    "lat_dens1d = np.arange(65., 85.1, 1) # 0.3)\n",
    "lon_dens, lat_dens = np.meshgrid(lon_dens1d, lat_dens1d)"
   ]
  },
  {
   "cell_type": "code",
   "execution_count": 6,
   "metadata": {},
   "outputs": [],
   "source": [
    "lsm_1deg = lsm.interp(coords=dict(longitude=lon_dens[0, :], latitude=lat_dens[:, 0])).to_iris()\n",
    "lsm_1deg.coord('longitude').units = Unit('degrees_east')\n",
    "lsm_1deg.coord('latitude').units = Unit('degrees_north')\n",
    "lsm_1deg.coord('longitude').guess_bounds()\n",
    "lsm_1deg.coord('latitude').guess_bounds()"
   ]
  },
  {
   "cell_type": "code",
   "execution_count": 7,
   "metadata": {},
   "outputs": [],
   "source": [
    "weights = lsm_1deg.copy(data=iris.analysis.cartography.area_weights(lsm_1deg, normalize=False))\n",
    "weights.units = Unit('m^2')\n",
    "weights.rename('area_weights')\n",
    "weights.convert_units('km^2')"
   ]
  },
  {
   "cell_type": "code",
   "execution_count": 8,
   "metadata": {},
   "outputs": [],
   "source": [
    "area_weights_1deg = xr.DataArray.from_iris(weights)"
   ]
  },
  {
   "cell_type": "code",
   "execution_count": 9,
   "metadata": {},
   "outputs": [],
   "source": [
    "area_weights_1deg_norm = xr.DataArray.from_iris(lsm_1deg.copy(data=iris.analysis.cartography.area_weights(lsm_1deg, normalize=True)))"
   ]
  },
  {
   "cell_type": "code",
   "execution_count": 10,
   "metadata": {},
   "outputs": [],
   "source": [
    "lsm_1deg = xr.DataArray.from_iris(lsm_1deg)"
   ]
  },
  {
   "cell_type": "markdown",
   "metadata": {},
   "source": [
    "### Mean sea ice edge position"
   ]
  },
  {
   "cell_type": "code",
   "execution_count": 11,
   "metadata": {},
   "outputs": [],
   "source": [
    "sea_ice_ds = xr.open_mfdataset(sorted(mypaths.era5_dir.glob('*.ci.nc')))"
   ]
  },
  {
   "cell_type": "code",
   "execution_count": 12,
   "metadata": {},
   "outputs": [],
   "source": [
    "sea_ice_conc = sea_ice_ds.ci[:, (sea_ice_ds.latitude >= 65) & (sea_ice_ds.latitude <= 85), (sea_ice_ds.longitude >= -20) & (sea_ice_ds.longitude <= 50)]"
   ]
  },
  {
   "cell_type": "code",
   "execution_count": 13,
   "metadata": {},
   "outputs": [],
   "source": [
    "sic_thresh = 0.15  # 15% threshold"
   ]
  },
  {
   "cell_type": "code",
   "execution_count": 14,
   "metadata": {},
   "outputs": [],
   "source": [
    "sea_ice_conc_mean = sea_ice_conc.mean(dim='time')"
   ]
  },
  {
   "cell_type": "markdown",
   "metadata": {},
   "source": [
    "## Calculate density"
   ]
  },
  {
   "cell_type": "code",
   "execution_count": 18,
   "metadata": {},
   "outputs": [],
   "source": [
    "r = 111.3\n",
    "grid_str = r'$1^\\degree\\times 1^\\degree$'"
   ]
  },
  {
   "cell_type": "code",
   "execution_count": 19,
   "metadata": {},
   "outputs": [],
   "source": [
    "# for (dset_name, _) in tqdm(dset_names):\n",
    "    \n",
    "#     all_dens = calc_all_dens(track_runs[dset_name], lon_dens, lat_dens, method='radius', r=r)\n",
    "#     attrs = all_dens.attrs.copy()\n",
    "#     all_dens = all_dens / nyr\n",
    "#     all_dens.attrs.update(attrs)\n",
    "    \n",
    "#     all_dens.to_netcdf(mypaths.procdir / f'{dset_name}_2008_2017_top10_all_densities_r{round(r):3d}.nc')\n",
    "    \n",
    "# clear_output()"
   ]
  },
  {
   "cell_type": "code",
   "execution_count": 20,
   "metadata": {},
   "outputs": [],
   "source": [
    "# all_dens.to_netcdf(mypaths.procdir / f'{dataset}_run{run_id_start+run_id:03d}_2008_2017_all_densities_r{round(r):3d}.nc')"
   ]
  },
  {
   "cell_type": "code",
   "execution_count": 21,
   "metadata": {},
   "outputs": [],
   "source": [
    "AXGR_KW = dict(axes_pad=0.45,\n",
    "               cbar_location='right',\n",
    "               cbar_mode='single',\n",
    "               cbar_pad=0.1,\n",
    "               cbar_size='3%')\n",
    "diff_plt_kw = dict(cmap='coolwarm', extend='both', **trans)\n",
    "cntr_kw = dict(colors='#222222', linewidths=0.5, **trans)\n",
    "cntr_lab_kw = dict(fmt='%3.0f', colors='k')\n",
    "ci_kw = dict(levels=[0.15], linewidths=4, **trans)\n",
    "at_kw = dict(loc=2, prop=dict(size='small'))\n",
    "text_kw = dict(ha='center',\n",
    "               fontsize='xx-large',\n",
    "               path_effects=[PathEffects.withStroke(linewidth=3,\n",
    "                                                    foreground='w')])"
   ]
  },
  {
   "cell_type": "code",
   "execution_count": null,
   "metadata": {},
   "outputs": [],
   "source": [
    "from ipywidgets import interact\n",
    "@interact(dens_type=DENSITY_TYPES, subset=SUBSETS, dset_name=[i[0] for i in dset_names])\n",
    "def fun(dset_name, dens_type='track', subset='moderate'):\n",
    "    \n",
    "    all_dens = xr.open_dataarray(mypaths.procdir / f'{dset_name}_2008_2017_top10_all_densities_r{round(r):3d}.nc')\n",
    "    \n",
    "    fig = plt.figure(figsize=(10, 10))\n",
    "    ax = lcc_map(fig, **LCC_KW)\n",
    "\n",
    "    h = all_dens.sel(subset=subset, dens_type=dens_type).plot.contourf(add_colorbar=False, ax=ax, **abs_plt_kw)\n",
    "    cb = fig.colorbar(h, pad=0.01, shrink=0.7)\n",
    "#     ax.plot(13, 74, marker='o', **mapkey)\n",
    "\n",
    "# ttl_str = \"\\n\".join([f\"{k} = {v}\" for k, v in density_kw.items()])\n",
    "# ax.add_artist(AnchoredText(f'{dens2show.capitalize()} density (per year)\\n{dataset}\\n{ttl_str}', loc=2))\n",
    "\n",
    "# for _, tr in TR[subset].groupby('track_idx'):\n",
    "#     tr.plot_track(ax=ax);"
   ]
  },
  {
   "cell_type": "code",
   "execution_count": null,
   "metadata": {},
   "outputs": [],
   "source": [
    "# fig.savefig(mypaths.plotdir / 'climatology' / f'pmctrack_density_point_{dataset}_{density_kw[\"subset\"]}_r{density_kw[\"r\"]:3.0f}.{fmt}', **svfigkw)"
   ]
  },
  {
   "cell_type": "code",
   "execution_count": 22,
   "metadata": {},
   "outputs": [],
   "source": [
    "subsets = SUBSETS[1:]"
   ]
  },
  {
   "cell_type": "code",
   "execution_count": 23,
   "metadata": {},
   "outputs": [],
   "source": [
    "# AXGR_KW = dict(axes_pad=0.4,\n",
    "#                cbar_location='right',\n",
    "#                cbar_mode='each',\n",
    "#                cbar_pad=0.05,\n",
    "#                cbar_size='3%')\n",
    "AXGR_KW = dict(axes_pad=0.3)\n",
    "diff_plt_kw = dict(cmap='coolwarm', extend='both', **trans)\n",
    "cntr_kw = dict(colors='#222222', linewidths=0.5, **trans)\n",
    "cntr_lab_kw = dict(fmt='%3.0f', colors='k')\n",
    "ci_kw = dict(levels=[0.15], linewidths=2, **trans)\n",
    "at_kw = dict(loc='upper right', prop=dict(size='small'))\n",
    "# text_kw = dict(ha='center',\n",
    "#                fontsize='xx-large',\n",
    "#                path_effects=[PathEffects.withStroke(linewidth=3,\n",
    "#                                                     foreground='w')])"
   ]
  },
  {
   "cell_type": "code",
   "execution_count": 24,
   "metadata": {},
   "outputs": [
    {
     "data": {
      "application/vnd.jupyter.widget-view+json": {
       "model_id": "",
       "version_major": 2,
       "version_minor": 0
      },
      "text/plain": [
       "HBox(children=(IntProgress(value=0, description='figures', max=4), HTML(value='')))"
      ]
     },
     "metadata": {},
     "output_type": "display_data"
    },
    {
     "data": {
      "application/vnd.jupyter.widget-view+json": {
       "model_id": "",
       "version_major": 2,
       "version_minor": 0
      },
      "text/plain": [
       "HBox(children=(IntProgress(value=1, bar_style='info', description='datasets', max=1), HTML(value='')))"
      ]
     },
     "metadata": {},
     "output_type": "display_data"
    },
    {
     "data": {
      "application/vnd.jupyter.widget-view+json": {
       "model_id": "",
       "version_major": 2,
       "version_minor": 0
      },
      "text/plain": [
       "HBox(children=(IntProgress(value=1, bar_style='info', description='subsets', max=1), HTML(value='')))"
      ]
     },
     "metadata": {},
     "output_type": "display_data"
    },
    {
     "data": {
      "application/vnd.jupyter.widget-view+json": {
       "model_id": "",
       "version_major": 2,
       "version_minor": 0
      },
      "text/plain": [
       "HBox(children=(IntProgress(value=1, bar_style='info', description='subsets', max=1), HTML(value='')))"
      ]
     },
     "metadata": {},
     "output_type": "display_data"
    },
    {
     "data": {
      "application/vnd.jupyter.widget-view+json": {
       "model_id": "",
       "version_major": 2,
       "version_minor": 0
      },
      "text/plain": [
       "HBox(children=(IntProgress(value=1, bar_style='info', description='subsets', max=1), HTML(value='')))"
      ]
     },
     "metadata": {},
     "output_type": "display_data"
    },
    {
     "data": {
      "application/vnd.jupyter.widget-view+json": {
       "model_id": "",
       "version_major": 2,
       "version_minor": 0
      },
      "text/plain": [
       "HBox(children=(IntProgress(value=1, bar_style='info', description='datasets', max=1), HTML(value='')))"
      ]
     },
     "metadata": {},
     "output_type": "display_data"
    },
    {
     "data": {
      "application/vnd.jupyter.widget-view+json": {
       "model_id": "",
       "version_major": 2,
       "version_minor": 0
      },
      "text/plain": [
       "HBox(children=(IntProgress(value=1, bar_style='info', description='subsets', max=1), HTML(value='')))"
      ]
     },
     "metadata": {},
     "output_type": "display_data"
    },
    {
     "data": {
      "application/vnd.jupyter.widget-view+json": {
       "model_id": "",
       "version_major": 2,
       "version_minor": 0
      },
      "text/plain": [
       "HBox(children=(IntProgress(value=1, bar_style='info', description='subsets', max=1), HTML(value='')))"
      ]
     },
     "metadata": {},
     "output_type": "display_data"
    },
    {
     "data": {
      "application/vnd.jupyter.widget-view+json": {
       "model_id": "",
       "version_major": 2,
       "version_minor": 0
      },
      "text/plain": [
       "HBox(children=(IntProgress(value=1, bar_style='info', description='subsets', max=1), HTML(value='')))"
      ]
     },
     "metadata": {},
     "output_type": "display_data"
    },
    {
     "data": {
      "application/vnd.jupyter.widget-view+json": {
       "model_id": "",
       "version_major": 2,
       "version_minor": 0
      },
      "text/plain": [
       "HBox(children=(IntProgress(value=1, bar_style='info', description='datasets', max=1), HTML(value='')))"
      ]
     },
     "metadata": {},
     "output_type": "display_data"
    },
    {
     "data": {
      "application/vnd.jupyter.widget-view+json": {
       "model_id": "",
       "version_major": 2,
       "version_minor": 0
      },
      "text/plain": [
       "HBox(children=(IntProgress(value=1, bar_style='info', description='subsets', max=1), HTML(value='')))"
      ]
     },
     "metadata": {},
     "output_type": "display_data"
    },
    {
     "data": {
      "application/vnd.jupyter.widget-view+json": {
       "model_id": "",
       "version_major": 2,
       "version_minor": 0
      },
      "text/plain": [
       "HBox(children=(IntProgress(value=1, bar_style='info', description='subsets', max=1), HTML(value='')))"
      ]
     },
     "metadata": {},
     "output_type": "display_data"
    },
    {
     "data": {
      "application/vnd.jupyter.widget-view+json": {
       "model_id": "",
       "version_major": 2,
       "version_minor": 0
      },
      "text/plain": [
       "HBox(children=(IntProgress(value=1, bar_style='info', description='subsets', max=1), HTML(value='')))"
      ]
     },
     "metadata": {},
     "output_type": "display_data"
    },
    {
     "data": {
      "application/vnd.jupyter.widget-view+json": {
       "model_id": "",
       "version_major": 2,
       "version_minor": 0
      },
      "text/plain": [
       "HBox(children=(IntProgress(value=1, bar_style='info', description='datasets', max=1), HTML(value='')))"
      ]
     },
     "metadata": {},
     "output_type": "display_data"
    },
    {
     "data": {
      "application/vnd.jupyter.widget-view+json": {
       "model_id": "",
       "version_major": 2,
       "version_minor": 0
      },
      "text/plain": [
       "HBox(children=(IntProgress(value=1, bar_style='info', description='subsets', max=1), HTML(value='')))"
      ]
     },
     "metadata": {},
     "output_type": "display_data"
    },
    {
     "data": {
      "application/vnd.jupyter.widget-view+json": {
       "model_id": "",
       "version_major": 2,
       "version_minor": 0
      },
      "text/plain": [
       "HBox(children=(IntProgress(value=1, bar_style='info', description='subsets', max=1), HTML(value='')))"
      ]
     },
     "metadata": {},
     "output_type": "display_data"
    },
    {
     "data": {
      "application/vnd.jupyter.widget-view+json": {
       "model_id": "",
       "version_major": 2,
       "version_minor": 0
      },
      "text/plain": [
       "HBox(children=(IntProgress(value=1, bar_style='info', description='subsets', max=1), HTML(value='')))"
      ]
     },
     "metadata": {},
     "output_type": "display_data"
    },
    {
     "name": "stdout",
     "output_type": "stream",
     "text": []
    }
   ],
   "source": [
    "ncol = len(dset_names)\n",
    "nrow = len(subsets)\n",
    "\n",
    "for dens_type in tqdm(DENSITY_TYPES, desc='figures', leave=False):\n",
    "    fig = plt.figure(figsize=(ncol*5, nrow*5))\n",
    "    axgr = lcc_map_grid(fig, (nrow, ncol), **LCC_KW, **AXGR_KW)\n",
    "\n",
    "    ttl = f'{dens_type.capitalize()} density\\nr = {r} km, {grid_str}\\n2008-2017 (9 winters)'\n",
    "    fig.suptitle(ttl, x=axgr.axes_all[0].get_position().get_points()[0, 0],\n",
    "                 transform=axgr.axes_all[0].transAxes, ha='left', fontsize='large')\n",
    "\n",
    "    iletters = iter(string.ascii_lowercase)\n",
    "    for ax in axgr.axes_all:\n",
    "        ax.set_title(f'({next(iletters)})', loc='left', fontsize='medium')\n",
    "    # iter_cax = iter(axgr.cbar_axes)\n",
    "    for axcol, (dset_name, dset_label) in tqdm(zip(axgr.axes_column, dset_names), desc='datasets', leave=False):\n",
    "        \n",
    "        all_dens = xr.open_dataarray(mypaths.procdir / f'{dset_name}_2008_2017_top10_all_densities_r{round(r):3d}.nc')\n",
    "        for ax, subset in tqdm(zip(axcol, subsets), desc='subsets', leave=False):\n",
    "            \n",
    "            data = all_dens.sel(subset=subset, dens_type=dens_type)\n",
    "            lab = \"\\n\".join(dset_label.split(\", \"))\n",
    "            txt = f'{lab}\\n{aliases[subset]}'\n",
    "            ax.add_artist(AnchoredText(txt, **at_kw))\n",
    "#             try:\n",
    "#                 h = data.plot.contourf(ax=ax, robust=True, add_colorbar=False, add_labels=False, **abs_plt_kw)\n",
    "#             except:\n",
    "            h = data.plot.contourf(ax=ax, robust=False, add_colorbar=False, add_labels=False, **abs_plt_kw)\n",
    "\n",
    "#             # levels = h.get_array()\n",
    "#             hh = ax.contour(lon_dens, lat_dens, ma_data, **cntr_kw)\n",
    "#             hhh = ax.clabel(hh, **cntr_lab_kw)\n",
    "#             plt.setp(hhh, path_effects=[PathEffects.withStroke(linewidth=1.5, foreground='w')])\n",
    "            # Overlay with sea ice edge\n",
    "            sea_ice_conc_mean.plot.contour(ax=ax, add_labels=False, colors='C0', **ci_kw)\n",
    "        \n",
    "            cax = inset_axes(ax, borderpad=0.5,\n",
    "                     width=\"4%\",\n",
    "                     height=\"45%\",\n",
    "                     loc='upper left')\n",
    "            \n",
    "            # cax = next(iter_cax)\n",
    "            cb = fig.colorbar(h, orientation='vertical', cax=cax)\n",
    "            cb.ax.tick_params(labelsize='large')\n",
    "            for i in cb.ax.get_yticklabels():\n",
    "                i.set_path_effects([PathEffects.withStroke(linewidth=2, foreground='w')])\n",
    "\n",
    "    fig.savefig(mypaths.plotdir / f'pmctrack_era5_vs_interim_{dens_type}_density_r{round(r):3d}')\n",
    "    plt.close()"
   ]
  },
  {
   "cell_type": "markdown",
   "metadata": {},
   "source": [
    "## Another option for counting...."
   ]
  },
  {
   "cell_type": "markdown",
   "metadata": {},
   "source": [
    "### Load tracks"
   ]
  },
  {
   "cell_type": "code",
   "execution_count": null,
   "metadata": {},
   "outputs": [],
   "source": [
    "track_runs = dict()\n",
    "for (dset_name, _) in tqdm(dset_names):\n",
    "    TR = TrackRun()\n",
    "    TR.data = OctantTrack.from_mux_df(pd.read_parquet(mypaths.procdir / f'{dset_name}_2008_2017_top10.parquet', engine='pyarrow'))\n",
    "    TR.is_categorised = True\n",
    "    track_runs[dset_name] = TR\n",
    "clear_output()"
   ]
  },
  {
   "cell_type": "code",
   "execution_count": null,
   "metadata": {},
   "outputs": [],
   "source": [
    "from scipy.ndimage.filters import gaussian_filter"
   ]
  },
  {
   "cell_type": "code",
   "execution_count": null,
   "metadata": {},
   "outputs": [],
   "source": [
    "dens = track_runs['era5_run000'].density(lon_dens, lat_dens, by='track',\n",
    "                  method='cell', r=r, subset='strong')"
   ]
  },
  {
   "cell_type": "code",
   "execution_count": null,
   "metadata": {},
   "outputs": [],
   "source": [
    "a = dens * (area_weights_1deg/area_weights_1deg.max())"
   ]
  },
  {
   "cell_type": "code",
   "execution_count": null,
   "metadata": {},
   "outputs": [],
   "source": [
    "aa = xr.apply_ufunc(gaussian_filter, a, kwargs=dict(sigma=1))"
   ]
  },
  {
   "cell_type": "code",
   "execution_count": null,
   "metadata": {},
   "outputs": [],
   "source": [
    "fig = plt.figure(figsize=(10, 10))\n",
    "ax = lcc_map(fig, **LCC_KW)\n",
    "\n",
    "h = aa.plot.contourf(add_colorbar=False, ax=ax, levels=np.arange(0, 50, 5)*0.2, **abs_plt_kw)\n",
    "cb = fig.colorbar(h, pad=0.01, shrink=0.7)"
   ]
  }
 ],
 "metadata": {
  "kernelspec": {
   "display_name": "Python [conda env:phd]",
   "language": "python",
   "name": "conda-env-phd-py"
  },
  "language_info": {
   "codemirror_mode": {
    "name": "ipython",
    "version": 3
   },
   "file_extension": ".py",
   "mimetype": "text/x-python",
   "name": "python",
   "nbconvert_exporter": "python",
   "pygments_lexer": "ipython3",
   "version": "3.6.5"
  },
  "varInspector": {
   "cols": {
    "lenName": 16,
    "lenType": 16,
    "lenVar": 40
   },
   "kernels_config": {
    "python": {
     "delete_cmd_postfix": "",
     "delete_cmd_prefix": "del ",
     "library": "var_list.py",
     "varRefreshCmd": "print(var_dic_list())"
    },
    "r": {
     "delete_cmd_postfix": ") ",
     "delete_cmd_prefix": "rm(",
     "library": "var_list.r",
     "varRefreshCmd": "cat(var_dic_list()) "
    }
   },
   "types_to_exclude": [
    "module",
    "function",
    "builtin_function_or_method",
    "instance",
    "_Feature"
   ],
   "window_display": false
  }
 },
 "nbformat": 4,
 "nbformat_minor": 2
}
